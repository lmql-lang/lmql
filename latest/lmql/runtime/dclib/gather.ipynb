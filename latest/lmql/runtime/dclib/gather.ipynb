{
 "cells": [
  {
   "cell_type": "code",
   "execution_count": 1,
   "metadata": {},
   "outputs": [],
   "source": [
    "%load_ext autoreload\n",
    "%autoreload 2\n",
    "import torch\n",
    "import sys\n",
    "\n",
    "sys.path.append(\"../../../\")\n",
    "\n",
    "import lmql\n",
    "\n",
    "from lmql.runtime.dclib import decoders\n",
    "from lmql.model.client import ServedPretrainedModel\n",
    "import lmql.runtime.dclib.dclib as dc"
   ]
  },
  {
   "cell_type": "code",
   "execution_count": 7,
   "metadata": {},
   "outputs": [
    {
     "data": {
      "text/plain": [
       "lmql.runtime.dclib.dclib.DecoderSequence"
      ]
     },
     "execution_count": 7,
     "metadata": {},
     "output_type": "execute_result"
    }
   ],
   "source": [
    "a = dc.seqs([dc.seq([1, 2, 3]), dc.seq([4, 5, 6])])\n",
    "a.dtype"
   ]
  },
  {
   "cell_type": "code",
   "execution_count": 10,
   "metadata": {},
   "outputs": [
    {
     "name": "stdout",
     "output_type": "stream",
     "text": [
      "active 'A great physicist once said: \"'\n",
      "None\n",
      "active 'A great physicist once said:\\n'\n",
      "None\n",
      "active 'A great physicist once said: \"The'\n",
      "None\n",
      "active 'A great physicist once said: \"If'\n",
      "None\n",
      "active 'A great physicist once said: \"If you'\n",
      "None\n",
      "active 'A great physicist once said: \"The universe'\n",
      "None\n"
     ]
    }
   ],
   "source": [
    "async with ServedPretrainedModel(\"http://localhost:8080\", \"gpt2-medium\"):\n",
    "    # tokenize first arg\n",
    "    prompt_ids = torch.tensor(await (dc.get_tokenizer()(\"A great physicist once said:\")))\n",
    "\n",
    "    async for active, done in decoders.beam_search(prompt_ids, n=2, max_len=10):\n",
    "        for s in active:\n",
    "            print(\"active\", str([await s.text()])[1:-1])\n",
    "            print(s.user_data)"
   ]
  },
  {
   "cell_type": "code",
   "execution_count": null,
   "metadata": {},
   "outputs": [],
   "source": []
  }
 ],
 "metadata": {
  "kernelspec": {
   "display_name": "languagemodels",
   "language": "python",
   "name": "python3"
  },
  "language_info": {
   "codemirror_mode": {
    "name": "ipython",
    "version": 3
   },
   "file_extension": ".py",
   "mimetype": "text/x-python",
   "name": "python",
   "nbconvert_exporter": "python",
   "pygments_lexer": "ipython3",
   "version": "3.8.13"
  },
  "orig_nbformat": 4,
  "vscode": {
   "interpreter": {
    "hash": "92122517a1dbb03a2e7dfc54de9c6e27579d45734a0d74779e95546fb68a6d62"
   }
  }
 },
 "nbformat": 4,
 "nbformat_minor": 2
}
