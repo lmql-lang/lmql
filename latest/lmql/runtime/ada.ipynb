{
 "cells": [
  {
   "cell_type": "code",
   "execution_count": 1,
   "metadata": {},
   "outputs": [],
   "source": [
    "from openai_secret import openai_secret, openai_org\n",
    "import openai\n",
    "\n",
    "openai.organization = openai_org\n",
    "openai.api_key = openai_secret"
   ]
  },
  {
   "cell_type": "code",
   "execution_count": null,
   "metadata": {},
   "outputs": [],
   "source": [
    "# def tokens(choice):\n",
    "#     text = \"\".join(choice.logprobs.tokens)\n",
    "#     return self.tokenizer(text)[\"input_ids\"]\n",
    "\n",
    "def api_complete(max_tokens, prompt, model, temperature=0):\n",
    "    response = openai.Completion.create(\n",
    "        model=model,\n",
    "        prompt=prompt,\n",
    "        max_tokens=max_tokens,\n",
    "        temperature=temperature,\n",
    "        logprobs=1,\n",
    "        user=\"lmql\",\n",
    "        stream=True\n",
    "    )\n",
    "    for i, data in enumerate(response):\n",
    "        if i >= max_tokens:\n",
    "            break\n",
    "        yield data\n",
    "\n",
    "for data in api_complete(10, \"The quick brown fox\", \"text-ada-001\", temperature=0.0):\n",
    "    print(data.choices[0].logprobs.tokens)\n",
    "print(\"done\")"
   ]
  },
  {
   "cell_type": "code",
   "execution_count": null,
   "metadata": {},
   "outputs": [],
   "source": []
  }
 ],
 "metadata": {
  "kernelspec": {
   "display_name": "Python 3.8.13 ('languagemodels')",
   "language": "python",
   "name": "python3"
  },
  "language_info": {
   "codemirror_mode": {
    "name": "ipython",
    "version": 3
   },
   "file_extension": ".py",
   "mimetype": "text/x-python",
   "name": "python",
   "nbconvert_exporter": "python",
   "pygments_lexer": "ipython3",
   "version": "3.8.13"
  },
  "orig_nbformat": 4,
  "vscode": {
   "interpreter": {
    "hash": "92122517a1dbb03a2e7dfc54de9c6e27579d45734a0d74779e95546fb68a6d62"
   }
  }
 },
 "nbformat": 4,
 "nbformat_minor": 2
}
