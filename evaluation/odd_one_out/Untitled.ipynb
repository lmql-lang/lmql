{
 "cells": [
  {
   "cell_type": "code",
   "execution_count": null,
   "id": "bf7507af",
   "metadata": {
    "scrolled": true
   },
   "outputs": [],
   "source": [
    "!wget https://raw.githubusercontent.com/google/BIG-bench/main/bigbench/benchmark_tasks/odd_one_out/task.json"
   ]
  },
  {
   "cell_type": "code",
   "execution_count": 9,
   "id": "a2324a6b",
   "metadata": {},
   "outputs": [
    {
     "name": "stdout",
     "output_type": "stream",
     "text": [
      "The autoreload extension is already loaded. To reload it, use:\n",
      "  %reload_ext autoreload\n"
     ]
    }
   ],
   "source": [
    "%load_ext autoreload\n",
    "%autoreload 2"
   ]
  },
  {
   "cell_type": "code",
   "execution_count": 36,
   "id": "67bb1756",
   "metadata": {},
   "outputs": [],
   "source": [
    "import torch\n",
    "import asyncio\n",
    "import json\n",
    "import sys\n",
    "sys.path.append(\"../../\")\n",
    "\n",
    "from lmql.model.client import ServedPretrainedModel"
   ]
  },
  {
   "cell_type": "code",
   "execution_count": 18,
   "id": "f5d3603f",
   "metadata": {
    "scrolled": true
   },
   "outputs": [],
   "source": [
    "with open(\"task.json\") as f:\n",
    "    data = json.load(f)"
   ]
  },
  {
   "cell_type": "code",
   "execution_count": 4,
   "id": "809171af",
   "metadata": {},
   "outputs": [
    {
     "data": {
      "text/plain": [
       "dict_keys(['canary', 'name', 'description', 'keywords', 'preferred_score', 'append_choices_to_input', 'metrics', 'examples'])"
      ]
     },
     "execution_count": 4,
     "metadata": {},
     "output_type": "execute_result"
    }
   ],
   "source": [
    "data.keys()"
   ]
  },
  {
   "cell_type": "code",
   "execution_count": 6,
   "id": "05d90818",
   "metadata": {},
   "outputs": [
    {
     "data": {
      "text/plain": [
       "{'input': 'Pick the odd word out: white, black, red, apple',\n",
       " 'target_scores': {'white': 0, 'black': 0, 'red': 0, 'apple': 1}}"
      ]
     },
     "execution_count": 6,
     "metadata": {},
     "output_type": "execute_result"
    }
   ],
   "source": [
    "data[\"examples\"][0]"
   ]
  },
  {
   "cell_type": "code",
   "execution_count": null,
   "id": "f9d77823",
   "metadata": {},
   "outputs": [],
   "source": [
    "model = ServedPretrainedModel(\"http://localhost:8080\", \"gpt2\")\n",
    "\n",
    "bos_token_id = (await model.tokenize(\"<BOS>\"))[0]\n",
    "eos_token_id = (await model.tokenize(\"<EOS>\"))[0]"
   ]
  },
  {
   "cell_type": "code",
   "execution_count": 41,
   "id": "e60cc4fc",
   "metadata": {},
   "outputs": [
    {
     "name": "stdout",
     "output_type": "stream",
     "text": [
      "warning: result for unknown sample_id 26 {}\n"
     ]
    },
    {
     "ename": "CancelledError",
     "evalue": "",
     "output_type": "error",
     "traceback": [
      "\u001b[0;31m---------------------------------------------------------------------------\u001b[0m",
      "\u001b[0;31mCancelledError\u001b[0m                            Traceback (most recent call last)",
      "\u001b[0;32m<ipython-input-41-9047b5af7ea3>\u001b[0m in \u001b[0;36m<module>\u001b[0;34m\u001b[0m\n\u001b[1;32m     18\u001b[0m         \u001b[0;32mbreak\u001b[0m\u001b[0;34m\u001b[0m\u001b[0;34m\u001b[0m\u001b[0m\n\u001b[1;32m     19\u001b[0m \u001b[0;34m\u001b[0m\u001b[0m\n\u001b[0;32m---> 20\u001b[0;31m \u001b[0;32mawait\u001b[0m \u001b[0mrun_eval\u001b[0m\u001b[0;34m(\u001b[0m\u001b[0;34m)\u001b[0m\u001b[0;34m\u001b[0m\u001b[0;34m\u001b[0m\u001b[0m\n\u001b[0m\u001b[1;32m     21\u001b[0m \u001b[0;34m\u001b[0m\u001b[0m\n\u001b[1;32m     22\u001b[0m \u001b[0;31m# input_ids = await model.tokenize(\"A: What is the circumference of the earth?\\n B: I believe the best person to answer this question is the  Bible itself. Q: What does the Bible say about the size of the universe?.\\n Indeed, in a recent interview the  Bible itself. Q: What does the Bible say about the size of the universe? addressed this question:\")\u001b[0m\u001b[0;34m\u001b[0m\u001b[0;34m\u001b[0m\u001b[0;34m\u001b[0m\u001b[0m\n",
      "\u001b[0;32m<ipython-input-41-9047b5af7ea3>\u001b[0m in \u001b[0;36mrun_eval\u001b[0;34m()\u001b[0m\n\u001b[1;32m      3\u001b[0m         \u001b[0;32mfor\u001b[0m \u001b[0mo\u001b[0m \u001b[0;32min\u001b[0m \u001b[0md\u001b[0m\u001b[0;34m[\u001b[0m\u001b[0;34m\"target_scores\"\u001b[0m\u001b[0;34m]\u001b[0m\u001b[0;34m.\u001b[0m\u001b[0mkeys\u001b[0m\u001b[0;34m(\u001b[0m\u001b[0;34m)\u001b[0m\u001b[0;34m:\u001b[0m\u001b[0;34m\u001b[0m\u001b[0;34m\u001b[0m\u001b[0m\n\u001b[1;32m      4\u001b[0m             \u001b[0mfull_prompt\u001b[0m \u001b[0;34m=\u001b[0m \u001b[0md\u001b[0m\u001b[0;34m[\u001b[0m\u001b[0;34m\"input\"\u001b[0m\u001b[0;34m]\u001b[0m \u001b[0;34m+\u001b[0m \u001b[0;34m\". The odd one is \"\u001b[0m \u001b[0;34m+\u001b[0m \u001b[0mo\u001b[0m\u001b[0;34m\u001b[0m\u001b[0;34m\u001b[0m\u001b[0m\n\u001b[0;32m----> 5\u001b[0;31m             \u001b[0minput_ids\u001b[0m \u001b[0;34m=\u001b[0m \u001b[0;32mawait\u001b[0m \u001b[0mmodel\u001b[0m\u001b[0;34m.\u001b[0m\u001b[0mtokenize\u001b[0m\u001b[0;34m(\u001b[0m\u001b[0mfull_prompt\u001b[0m\u001b[0;34m)\u001b[0m\u001b[0;34m\u001b[0m\u001b[0;34m\u001b[0m\u001b[0m\n\u001b[0m\u001b[1;32m      6\u001b[0m             \u001b[0minput_ids\u001b[0m \u001b[0;34m=\u001b[0m \u001b[0mtorch\u001b[0m\u001b[0;34m.\u001b[0m\u001b[0mtensor\u001b[0m\u001b[0;34m(\u001b[0m\u001b[0minput_ids\u001b[0m\u001b[0;34m)\u001b[0m\u001b[0;34m.\u001b[0m\u001b[0mlong\u001b[0m\u001b[0;34m(\u001b[0m\u001b[0;34m)\u001b[0m\u001b[0;34m\u001b[0m\u001b[0;34m\u001b[0m\u001b[0m\n\u001b[1;32m      7\u001b[0m             \u001b[0mprint\u001b[0m\u001b[0;34m(\u001b[0m\u001b[0minput_ids\u001b[0m\u001b[0;34m.\u001b[0m\u001b[0mshape\u001b[0m\u001b[0;34m)\u001b[0m\u001b[0;34m\u001b[0m\u001b[0;34m\u001b[0m\u001b[0m\n",
      "\u001b[0;32m~/lmql/lmql/evaluation/odd_one_out/../../lmql/model/client.py\u001b[0m in \u001b[0;36mtokenize\u001b[0;34m(self, text)\u001b[0m\n\u001b[1;32m    149\u001b[0m             \u001b[0mloop\u001b[0m\u001b[0;34m.\u001b[0m\u001b[0mcall_later\u001b[0m\u001b[0;34m(\u001b[0m\u001b[0mself\u001b[0m\u001b[0;34m.\u001b[0m\u001b[0mtimeout\u001b[0m\u001b[0;34m,\u001b[0m \u001b[0mself\u001b[0m\u001b[0;34m.\u001b[0m\u001b[0m_timeout\u001b[0m\u001b[0;34m,\u001b[0m \u001b[0msample_id\u001b[0m\u001b[0;34m)\u001b[0m\u001b[0;34m\u001b[0m\u001b[0;34m\u001b[0m\u001b[0m\n\u001b[1;32m    150\u001b[0m \u001b[0;34m\u001b[0m\u001b[0m\n\u001b[0;32m--> 151\u001b[0;31m             \u001b[0;32mreturn\u001b[0m \u001b[0;34m(\u001b[0m\u001b[0;32mawait\u001b[0m \u001b[0mself\u001b[0m\u001b[0;34m.\u001b[0m\u001b[0mpending\u001b[0m\u001b[0;34m[\u001b[0m\u001b[0msample_id\u001b[0m\u001b[0;34m]\u001b[0m\u001b[0;34m)\u001b[0m\u001b[0;34m[\u001b[0m\u001b[0;34m\"input_ids\"\u001b[0m\u001b[0;34m]\u001b[0m\u001b[0;34m\u001b[0m\u001b[0;34m\u001b[0m\u001b[0m\n\u001b[0m\u001b[1;32m    152\u001b[0m         \u001b[0;32mexcept\u001b[0m \u001b[0mrequests\u001b[0m\u001b[0;34m.\u001b[0m\u001b[0mexceptions\u001b[0m\u001b[0;34m.\u001b[0m\u001b[0mConnectionError\u001b[0m \u001b[0;32mas\u001b[0m \u001b[0me\u001b[0m\u001b[0;34m:\u001b[0m\u001b[0;34m\u001b[0m\u001b[0;34m\u001b[0m\u001b[0m\n\u001b[1;32m    153\u001b[0m             \u001b[0;31m# check for connection refused\u001b[0m\u001b[0;34m\u001b[0m\u001b[0;34m\u001b[0m\u001b[0;34m\u001b[0m\u001b[0m\n",
      "\u001b[0;31mCancelledError\u001b[0m: "
     ]
    }
   ],
   "source": [
    "async def run_eval():\n",
    "    for d in data[\"examples\"]:\n",
    "        for o in d[\"target_scores\"].keys():\n",
    "            full_prompt = d[\"input\"] + \". The odd one is \" + o\n",
    "            input_ids = await model.tokenize(full_prompt)\n",
    "            input_ids = torch.tensor(input_ids).long()\n",
    "            print(input_ids.shape)\n",
    "            res = await model.generate(input_ids=input_ids.unsqueeze(0), max_length=1024, \n",
    "                                       early_termination=True, num_return_sequences=1, \n",
    "                                       max_new_tokens=20, do_sample=True,\n",
    "                                       early_stopping=True, no_repeat_ngram_size=3, \n",
    "                                       eos_token_id=eos_token_id, bos_token_id=bos_token_id)\n",
    "            print(res)\n",
    "        print(d)\n",
    "        # input_ids = await model.tokenize(\"A: What is the circumference of the earth?\\n B: I believe the best person to answer this question is the  Bible itself. Q: What does the Bible say about the size of the universe?.\\n Indeed, in a recent interview the  Bible itself. Q: What does the Bible say about the size of the universe? addressed this question:\")\n",
    "        # input_ids = torch.tensor(input_ids).view(1, -1)\n",
    "        # res = await model.generate(input_ids=input_ids, max_length=1024, early_termination=True, num_return_sequences=1, max_new_tokens=20, do_sample=True, num_beams=3, early_stopping=True, no_repeat_ngram_size=3, eos_token_id=eos_token_id, bos_token_id=bos_token_id)\n",
    "        break\n",
    "\n",
    "await run_eval()\n",
    "        \n",
    "# input_ids = await model.tokenize(\"A: What is the circumference of the earth?\\n B: I believe the best person to answer this question is the  Bible itself. Q: What does the Bible say about the size of the universe?.\\n Indeed, in a recent interview the  Bible itself. Q: What does the Bible say about the size of the universe? addressed this question:\")\n",
    "# input_ids = torch.tensor(input_ids).view(1, -1)\n",
    "# res = await model.generate(input_ids=input_ids, max_length=1024, early_termination=True, num_return_sequences=1, max_new_tokens=20, do_sample=True, num_beams=3, early_stopping=True, no_repeat_ngram_size=3, eos_token_id=eos_token_id, bos_token_id=bos_token_id)"
   ]
  }
 ],
 "metadata": {
  "kernelspec": {
   "display_name": "Python 3",
   "language": "python",
   "name": "python3"
  },
  "language_info": {
   "codemirror_mode": {
    "name": "ipython",
    "version": 3
   },
   "file_extension": ".py",
   "mimetype": "text/x-python",
   "name": "python",
   "nbconvert_exporter": "python",
   "pygments_lexer": "ipython3",
   "version": "3.8.10"
  }
 },
 "nbformat": 4,
 "nbformat_minor": 5
}
